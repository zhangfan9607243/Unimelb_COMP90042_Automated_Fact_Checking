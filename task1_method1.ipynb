{
 "cells": [
  {
   "cell_type": "markdown",
   "id": "58dbabd5-0077-4883-b13a-e92e2678d960",
   "metadata": {},
   "source": [
    "# Task 1: Method 1: Searching Related Evidence by TFIDF Vectorization"
   ]
  },
  {
   "cell_type": "code",
   "execution_count": null,
   "id": "63a4cdbe-b92c-40d4-994f-d6a9dadf4399",
   "metadata": {},
   "outputs": [],
   "source": [
    "import pandas as pd\n",
    "import numpy as np\n",
    "from sklearn.feature_extraction.text import CountVectorizer\n",
    "from sklearn.feature_extraction.text import TfidfTransformer\n",
    "from sklearn.metrics.pairwise import cosine_similarity"
   ]
  },
  {
   "cell_type": "markdown",
   "id": "ab971076-8a46-4976-926e-d0a94e4320c3",
   "metadata": {},
   "source": [
    "## Prepare Data"
   ]
  },
  {
   "cell_type": "code",
   "execution_count": null,
   "id": "fc873322-7353-41fd-b3d1-9ce8e4c0c98a",
   "metadata": {},
   "outputs": [],
   "source": [
    "test_df = pd.read_csv(\"data_processed/test_df_t1.csv\")\n",
    "tran_df = pd.read_csv(\"data_processed/tran_df_t1.csv\")\n",
    "deva_df = pd.read_csv(\"data_processed/deva_df_t1.csv\")\n",
    "evdn_df = pd.read_csv(\"data_processed/evdn_full_df_t1.csv\")\n",
    "\n",
    "test_text = list(test_df[\"claim\"])\n",
    "tran_text = list(tran_df[\"claim\"])\n",
    "deva_text = list(deva_df[\"claim\"])\n",
    "evdn_text = list(evdn_df[\"evidence\"])\n",
    "\n",
    "test_id = list(test_df[\"claim_index\"])\n",
    "tran_id = list(tran_df[\"claim_index\"])\n",
    "deva_id = list(deva_df[\"claim_index\"])\n",
    "evdn_id = list(evdn_df[\"evdn_index\"])\n",
    "\n",
    "evdn_range = [0, len(evdn_text)]\n",
    "test_range = [len(evdn_text), len(evdn_text)+len(test_text)]\n",
    "deva_range = [len(evdn_text)+len(test_text), len(evdn_text)+len(test_text)+len(deva_text)]\n",
    "tran_range = [len(evdn_text)+len(test_text)+len(deva_text), len(evdn_text)+len(test_text)+len(deva_text)+len(tran_text)]"
   ]
  },
  {
   "cell_type": "markdown",
   "id": "8b6da7b1-173e-4e0c-9770-fe1a5bf51eb2",
   "metadata": {},
   "source": [
    "## Prepare TFIDF Vectors"
   ]
  },
  {
   "cell_type": "code",
   "execution_count": null,
   "id": "cfba7d98-f6ef-4463-835f-b7d8899c9903",
   "metadata": {},
   "outputs": [],
   "source": [
    "sentences = evdn_text + test_text + deva_text + tran_text\n",
    "\n",
    "count_vect = CountVectorizer(ngram_range=(2, 2))\n",
    "bi_gram_counts = count_vect.fit_transform(sentences)\n",
    "\n",
    "tfidf_transformer = TfidfTransformer()\n",
    "bi_gram_tfidf = tfidf_transformer.fit_transform(bi_gram_counts)"
   ]
  },
  {
   "cell_type": "markdown",
   "id": "14cfe220-479a-4e83-8c0f-dac1322dc8d7",
   "metadata": {},
   "source": [
    "## Evidence Retrieval in Development Dataset"
   ]
  },
  {
   "cell_type": "code",
   "execution_count": null,
   "id": "b83561e4-a999-4b55-a02a-94b91a024cd3",
   "metadata": {},
   "outputs": [],
   "source": [
    "evdn_pred_list = []\n",
    "\n",
    "for i in range(deva_range[0], deva_range[1]):\n",
    "    print(i-len(test_text)-len(evdn_text))\n",
    "    evdn_pred = []\n",
    "    for j in range(evdn_range[0], evdn_range[1]):\n",
    "        if j % 10000 == 0:\n",
    "            print(str(i-len(test_text)-len(evdn_text)) + \" - \" + str(j))\n",
    "        evdn_pred.append([j, cosine_similarity(bi_gram_tfidf[i], bi_gram_tfidf[j])[0][0]])\n",
    "    evdn_pred_list.append(sorted(evdn_pred, key=(lambda x:x[1]), reverse=True)[0:6])\n",
    "\n",
    "evdn_pred_list_new = []\n",
    "evdn_pred_text = []\n",
    "for item in evdn_pred_list:\n",
    "    temp_list1 = []\n",
    "    temp_list2 = []\n",
    "    for value_list in item:\n",
    "        index = value_list[0]\n",
    "        text = evdn_text[index]\n",
    "        temp_list1.append(str(index))\n",
    "        temp_list2.append(str(text))\n",
    "    evdn_pred_list_new.append(\",\".join(temp_list1))\n",
    "    evdn_pred_text.append(\" \".join(temp_list2))\n",
    "\n",
    "result_list = []\n",
    "for i in range(len(evdn_pred_text)):\n",
    "    result_list.append([evdn_pred_list_new[i], evdn_pred_text[i]])"
   ]
  },
  {
   "cell_type": "code",
   "execution_count": null,
   "id": "de6f332d-700f-420c-88f1-b707f5cad9b3",
   "metadata": {},
   "outputs": [],
   "source": [
    "result_dataframe = pd.DataFrame(result_list)\n",
    "result_dataframe.columns = [\"evidence_id\", \"evidence_text\"]\n",
    "result_dataframe.to_csv(\"evdn_pred/deva_evdn_pred_tfidf.csv\")"
   ]
  },
  {
   "cell_type": "markdown",
   "id": "3ff9b6a4-753d-4e59-8b2b-299086a5f146",
   "metadata": {},
   "source": [
    "## Evidence Retrieval in Testing Dataset"
   ]
  },
  {
   "cell_type": "code",
   "execution_count": null,
   "id": "b55bc4df-62a9-47b0-b406-35760732c755",
   "metadata": {},
   "outputs": [],
   "source": [
    "evdn_pred_list = []\n",
    "\n",
    "for i in range(test_range[0], test_range[1]):\n",
    "    print(i-len(evdn_text))\n",
    "    evdn_pred = []\n",
    "    for j in range(evdn_range[0], evdn_range[1]):\n",
    "        if j % 10000 == 0:\n",
    "            print(str(i-len(evdn_text)) + \" - \" + str(j))\n",
    "        evdn_pred.append([j, cosine_similarity(bi_gram_tfidf[i], bi_gram_tfidf[j])[0][0]])\n",
    "    evdn_pred_list.append(sorted(evdn_pred, key=(lambda x:x[1]), reverse=True)[0:6])\n",
    "\n",
    "evdn_pred_list_new = []\n",
    "evdn_pred_text = []\n",
    "for item in evdn_pred_list:\n",
    "    temp_list1 = []\n",
    "    temp_list2 = []\n",
    "    for value_list in item:\n",
    "        index = value_list[0]\n",
    "        text = evdn_text[index]\n",
    "        temp_list1.append(str(index))\n",
    "        temp_list2.append(str(text))\n",
    "    evdn_pred_list_new.append(\",\".join(temp_list1))\n",
    "    evdn_pred_text.append(\" \".join(temp_list2))\n",
    "\n",
    "result_list = []\n",
    "for i in range(len(evdn_pred_text)):\n",
    "    result_list.append([evdn_pred_list_new[i], evdn_pred_text[i]])"
   ]
  },
  {
   "cell_type": "code",
   "execution_count": null,
   "id": "d70ed9a8-97d1-4639-b62f-b5ac8fec737d",
   "metadata": {},
   "outputs": [],
   "source": [
    "result_dataframe = pd.DataFrame(result_list)\n",
    "result_dataframe.columns = [\"evidence_id\", \"evidence_text\"]\n",
    "result_dataframe.to_csv(\"evdn_pred/test_evdn_pred_tfidf.csv\")"
   ]
  },
  {
   "cell_type": "code",
   "execution_count": null,
   "id": "6f90526c-8ff3-4b28-97c8-67d99958f0e3",
   "metadata": {},
   "outputs": [],
   "source": []
  }
 ],
 "metadata": {
  "kernelspec": {
   "display_name": "Python 3 (ipykernel)",
   "language": "python",
   "name": "python3"
  },
  "language_info": {
   "codemirror_mode": {
    "name": "ipython",
    "version": 3
   },
   "file_extension": ".py",
   "mimetype": "text/x-python",
   "name": "python",
   "nbconvert_exporter": "python",
   "pygments_lexer": "ipython3",
   "version": "3.8.10"
  }
 },
 "nbformat": 4,
 "nbformat_minor": 5
}
