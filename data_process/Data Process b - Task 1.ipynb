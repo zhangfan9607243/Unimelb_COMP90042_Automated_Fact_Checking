{
 "cells": [
  {
   "cell_type": "markdown",
   "metadata": {},
   "source": [
    "# Automatic Fact Checking - Climate Claims"
   ]
  },
  {
   "cell_type": "markdown",
   "metadata": {},
   "source": [
    "## Section 1: Data Process - b. Task 1"
   ]
  },
  {
   "cell_type": "markdown",
   "metadata": {},
   "source": [
    "### 1. Load Preprocessed Data"
   ]
  },
  {
   "cell_type": "code",
   "execution_count": 10,
   "metadata": {},
   "outputs": [],
   "source": [
    "import pandas as pd\n",
    "import numpy as np"
   ]
  },
  {
   "cell_type": "code",
   "execution_count": 11,
   "metadata": {},
   "outputs": [],
   "source": [
    "data_tran = pd.read_json('/root/COMP90042/data/data2/data_tran.json', orient='records', lines=True)\n",
    "data_vald = pd.read_json('/root/COMP90042/data/data2/data_vald.json', orient='records', lines=True)\n",
    "data_test = pd.read_json('/root/COMP90042/data/data2/data_test.json', orient='records', lines=True)"
   ]
  },
  {
   "cell_type": "markdown",
   "metadata": {},
   "source": [
    "### 2. Transform Claims Data - Training & Validation & Testing"
   ]
  },
  {
   "cell_type": "code",
   "execution_count": 12,
   "metadata": {},
   "outputs": [],
   "source": [
    "# Transform claim data\n",
    "def transform_data_claim_t1(df, is_train=True):\n",
    "\n",
    "    rows = []\n",
    "\n",
    "    for index, row in df.iterrows():\n",
    "        claim_id = row['claim_id']\n",
    "        claim_text = row['claim_text']\n",
    "\n",
    "        if is_train:\n",
    "            for evidence_texts in row['evidence_positive'].values():\n",
    "                for evidence in evidence_texts:\n",
    "                    rows.append({\n",
    "                        'claim_id': claim_id,\n",
    "                        'claim': claim_text,\n",
    "                        'evidence': evidence,\n",
    "                        'label': 1\n",
    "                    })\n",
    "            for evidence_texts in row['evidence_negative'].values():\n",
    "                for evidence in evidence_texts:\n",
    "                    rows.append({\n",
    "                        'claim_id': claim_id,\n",
    "                        'claim': claim_text,\n",
    "                        'evidence': evidence,\n",
    "                        'label': 0\n",
    "                    })\n",
    "        else:\n",
    "            rows.append({\n",
    "                'claim_id': claim_id,\n",
    "                'claim': claim_text\n",
    "            })\n",
    "\n",
    "    return pd.DataFrame(rows)"
   ]
  },
  {
   "cell_type": "code",
   "execution_count": 13,
   "metadata": {},
   "outputs": [],
   "source": [
    "data_tran_t1 = transform_data_claim_t1(data_tran, is_train=True)\n",
    "data_vald_t1 = transform_data_claim_t1(data_vald, is_train=True)\n",
    "data_test_t1 = transform_data_claim_t1(data_test, is_train=False)"
   ]
  },
  {
   "cell_type": "markdown",
   "metadata": {},
   "source": [
    "### 3. Save Processed Data"
   ]
  },
  {
   "cell_type": "code",
   "execution_count": 14,
   "metadata": {},
   "outputs": [],
   "source": [
    "data_tran_t1.to_json('/root/COMP90042/data/data2/data_tran_t1.json', orient='records', lines=True)\n",
    "data_vald_t1.to_json('/root/COMP90042/data/data2/data_vald_t1.json', orient='records', lines=True)\n",
    "data_test_t1.to_json('/root/COMP90042/data/data2/data_test_t1.json', orient='records', lines=True)"
   ]
  }
 ],
 "metadata": {
  "kernelspec": {
   "display_name": "base",
   "language": "python",
   "name": "python3"
  },
  "language_info": {
   "codemirror_mode": {
    "name": "ipython",
    "version": 3
   },
   "file_extension": ".py",
   "mimetype": "text/x-python",
   "name": "python",
   "nbconvert_exporter": "python",
   "pygments_lexer": "ipython3",
   "version": "3.12.3"
  }
 },
 "nbformat": 4,
 "nbformat_minor": 2
}
