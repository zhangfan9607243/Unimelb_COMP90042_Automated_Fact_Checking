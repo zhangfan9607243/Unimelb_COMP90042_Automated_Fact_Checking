{
 "cells": [
  {
   "cell_type": "markdown",
   "metadata": {},
   "source": [
    "# Automatic Fact Checking - Climate Claims"
   ]
  },
  {
   "cell_type": "markdown",
   "metadata": {},
   "source": [
    "## Section 1: Data Process - b. Task 1"
   ]
  },
  {
   "cell_type": "markdown",
   "metadata": {},
   "source": [
    "### 1. Load Preprocessed Data"
   ]
  },
  {
   "cell_type": "code",
   "execution_count": 11,
   "metadata": {},
   "outputs": [],
   "source": [
    "import pandas as pd\n",
    "import numpy as np"
   ]
  },
  {
   "cell_type": "code",
   "execution_count": 12,
   "metadata": {},
   "outputs": [],
   "source": [
    "data_tran = pd.read_json('/root/COMP90042/data/data2/data_tran.json', orient='records', lines=True)\n",
    "data_vald = pd.read_json('/root/COMP90042/data/data2/data_vald.json', orient='records', lines=True)\n",
    "data_test = pd.read_json('/root/COMP90042/data/data2/data_test.json', orient='records', lines=True)\n",
    "data_evdn = pd.read_json('/root/COMP90042/data/data2/data_evdn.json', orient='records', lines=True)"
   ]
  },
  {
   "cell_type": "markdown",
   "metadata": {},
   "source": [
    "### 2. Transform Claims Data"
   ]
  },
  {
   "cell_type": "markdown",
   "metadata": {},
   "source": [
    "#### 2.1 Training & Validation"
   ]
  },
  {
   "cell_type": "code",
   "execution_count": 13,
   "metadata": {},
   "outputs": [],
   "source": [
    "def transform_data_claim_t2_a(df):\n",
    "    df['evidence_text'] = df['evidence_positive'].apply(lambda d: ' '.join(list(d.values())[0]) if isinstance(d, dict) else '')\n",
    "    label_map = {\n",
    "        'SUPPORTS':        [1, 0, 0, 0],\n",
    "        'REFUTES':         [0, 1, 0, 0],\n",
    "        'NOT_ENOUGH_INFO': [0, 0, 1, 0],\n",
    "        'DISPUTED':        [0, 0, 0, 1]\n",
    "    }\n",
    "    df['label'] = df['claim_label'].map(label_map)\n",
    "    return df"
   ]
  },
  {
   "cell_type": "code",
   "execution_count": 14,
   "metadata": {},
   "outputs": [],
   "source": [
    "data_tran_t2 = transform_data_claim_t2_a(data_tran)\n",
    "data_vald_t2 = transform_data_claim_t2_a(data_vald)"
   ]
  },
  {
   "cell_type": "markdown",
   "metadata": {},
   "source": [
    "#### 2.2 Testing"
   ]
  },
  {
   "cell_type": "code",
   "execution_count": 15,
   "metadata": {},
   "outputs": [],
   "source": [
    "data_test_pred = pd.read_json('/root/COMP90042/data/data3/t1_result.json', orient='records', lines=True)"
   ]
  },
  {
   "cell_type": "code",
   "execution_count": 16,
   "metadata": {},
   "outputs": [],
   "source": [
    "def transform_data_claim_t2_b(df):\n",
    "\n",
    "    df_evdn = data_evdn[['evidence']]\n",
    "    df_evdn.index = df_evdn.index.astype(int)\n",
    "\n",
    "    def positive_sampling(evidence_ids):\n",
    "        return {eid: df_evdn.loc[eid] for eid in evidence_ids if eid in df_evdn.index}\n",
    "    \n",
    "    df['evidence_positive'] = df['evidences'].apply(positive_sampling)\n",
    "\n",
    "    df['evidence_text'] = df['evidence_positive'].apply(lambda d: ' '.join(list(d.values())[0]) if isinstance(d, dict) else '')\n",
    "    \n",
    "    return df"
   ]
  },
  {
   "cell_type": "code",
   "execution_count": 17,
   "metadata": {},
   "outputs": [],
   "source": [
    "data_test_t2 = transform_data_claim_t2_b(data_test_pred)\n",
    "data_test_t2['claim_text'] = data_test_t2['claim']"
   ]
  },
  {
   "cell_type": "markdown",
   "metadata": {},
   "source": [
    "### 3. Save Processed Data"
   ]
  },
  {
   "cell_type": "code",
   "execution_count": 18,
   "metadata": {},
   "outputs": [],
   "source": [
    "data_tran_t2.to_json('/root/COMP90042/data/data2/data_tran_t2.json', orient='records', lines=True)\n",
    "data_vald_t2.to_json('/root/COMP90042/data/data2/data_vald_t2.json', orient='records', lines=True)\n",
    "data_test_t2.to_json('/root/COMP90042/data/data2/data_test_t2.json', orient='records', lines=True)"
   ]
  }
 ],
 "metadata": {
  "kernelspec": {
   "display_name": "base",
   "language": "python",
   "name": "python3"
  },
  "language_info": {
   "codemirror_mode": {
    "name": "ipython",
    "version": 3
   },
   "file_extension": ".py",
   "mimetype": "text/x-python",
   "name": "python",
   "nbconvert_exporter": "python",
   "pygments_lexer": "ipython3",
   "version": "3.12.3"
  }
 },
 "nbformat": 4,
 "nbformat_minor": 2
}
